{
 "cells": [
  {
   "cell_type": "markdown",
   "metadata": {},
   "source": [
    "# Coleta de dados na internet"
   ]
  },
  {
   "cell_type": "code",
   "execution_count": 1,
   "metadata": {},
   "outputs": [],
   "source": [
    "import requests\n",
    "from bs4 import BeautifulSoup"
   ]
  },
  {
   "cell_type": "code",
   "execution_count": 2,
   "metadata": {},
   "outputs": [],
   "source": [
    "result = requests.get('https://www.google.com/')"
   ]
  },
  {
   "cell_type": "markdown",
   "metadata": {},
   "source": [
    "Comandos básicos para verificar conexão"
   ]
  },
  {
   "cell_type": "code",
   "execution_count": 3,
   "metadata": {},
   "outputs": [],
   "source": [
    "#print(result.status_code) #Status de conexão\n",
    "#print(result.headers) #Informações recebidas de cabeçalho\n",
    "src = result.content #Conteudo da requisição"
   ]
  },
  {
   "cell_type": "markdown",
   "metadata": {},
   "source": [
    "Passaremos o conteúdo da requisição para o BeautifulSoup, assim poderemos trabalhar melhor com a página html. Com o BS4 podemos encontrar todos os links da página e trabalhar com eles.<br>\n",
    "Com <code>.find_all()</code> conseguimos encontrar todas as tags html passadas<br>\n",
    "Com <code>.find()</code> conseguimos encontrar a primeira\n"
   ]
  },
  {
   "cell_type": "code",
   "execution_count": 18,
   "metadata": {},
   "outputs": [],
   "source": [
    "soup = BeautifulSoup(src, 'html.parser')\n",
    "links = soup.find_all('a')\n",
    "#print(links)"
   ]
  },
  {
   "cell_type": "markdown",
   "metadata": {},
   "source": [
    "Tratamento para ter a referência apenas do link. Utilizames <code>.attr[]</code>  Para captar algum atributo da tag"
   ]
  },
  {
   "cell_type": "code",
   "execution_count": 21,
   "metadata": {},
   "outputs": [],
   "source": [
    "for link in links:\n",
    "    if \"Google\" in link.text:\n",
    "        print(link)\n",
    "        print(link.attrs['href'])"
   ]
  },
  {
   "cell_type": "markdown",
   "metadata": {},
   "source": [
    "### Novo site - Capturando as notícias"
   ]
  },
  {
   "cell_type": "code",
   "execution_count": 22,
   "metadata": {},
   "outputs": [],
   "source": [
    "result = requests.get('https://www.whitehouse.gov/briefings-statements/')\n",
    "src = result.content\n",
    "\n",
    "soup = BeautifulSoup(src, 'html.parser')"
   ]
  },
  {
   "cell_type": "markdown",
   "metadata": {},
   "source": [
    "Trabalhando com tags dentro de tags"
   ]
  },
  {
   "cell_type": "code",
   "execution_count": 25,
   "metadata": {},
   "outputs": [
    {
     "name": "stdout",
     "output_type": "stream",
     "text": [
      "['https://www.whitehouse.gov/briefings-statements/text-letter-president-house-committee-financial-services-senate-committee-banking-housing-urban-affairs/', 'https://www.whitehouse.gov/briefings-statements/remarks-president-trump-greeting-103rd-indianapolis-500-champions-team-penske/', 'https://www.whitehouse.gov/briefings-statements/president-donald-j-trump-secures-historic-deal-mexico-combat-crisis-border/', 'https://www.whitehouse.gov/briefings-statements/presidential-message-mens-health-week-2019/', 'https://www.whitehouse.gov/briefings-statements/president-donald-j-trump-award-medal-honor-8/', 'https://www.whitehouse.gov/briefings-statements/president-donald-j-trump-approves-arkansas-disaster-declaration-2/', 'https://www.whitehouse.gov/briefings-statements/president-donald-j-trump-approves-south-dakota-disaster-declaration/', 'https://www.whitehouse.gov/briefings-statements/statement-press-secretary-visit-highness-sheikh-tamim-bin-hamad-al-thani-amir-state-qatar/', 'https://www.whitehouse.gov/briefings-statements/remarks-vice-president-pence-press-gaggle-4/', 'https://www.whitehouse.gov/briefings-statements/remarks-vice-president-pence-usmca-event-hosted-national-association-manufacturers/']\n"
     ]
    }
   ],
   "source": [
    "urls = []\n",
    "for h2_tag in soup.find_all('h2'):\n",
    "    a_tag = h2_tag.find(\"a\")\n",
    "    urls.append(a_tag.attrs['href'])\n",
    "\n",
    "print (urls)"
   ]
  },
  {
   "cell_type": "markdown",
   "metadata": {},
   "source": [
    "Quando se quer passar um html direto pelo BS4, para dar um \"lint\"(deixar organizados), podemos utilizar o <code>.prettirfy()</code> e escrever em um arquivo html ele \"bonito\""
   ]
  },
  {
   "cell_type": "code",
   "execution_count": null,
   "metadata": {},
   "outputs": [],
   "source": [
    "html_a_ser_passado = \"\"\"\n",
    "\"\"\"\n",
    "html_a_ser_passado.prettify()"
   ]
  },
  {
   "cell_type": "markdown",
   "metadata": {},
   "source": [
    "Exemplo de captura de valor de tags"
   ]
  },
  {
   "cell_type": "code",
   "execution_count": 31,
   "metadata": {},
   "outputs": [
    {
     "name": "stdout",
     "output_type": "stream",
     "text": [
      "['svg', 'svg--filter']\n"
     ]
    }
   ],
   "source": [
    "tag = soup.find_all('b')[2]\n",
    "print(tag['class'])"
   ]
  },
  {
   "cell_type": "code",
   "execution_count": null,
   "metadata": {},
   "outputs": [],
   "source": []
  },
  {
   "cell_type": "code",
   "execution_count": null,
   "metadata": {},
   "outputs": [],
   "source": []
  },
  {
   "cell_type": "code",
   "execution_count": null,
   "metadata": {},
   "outputs": [],
   "source": []
  }
 ],
 "metadata": {
  "kernelspec": {
   "display_name": "Python 3",
   "language": "python",
   "name": "python3"
  },
  "language_info": {
   "codemirror_mode": {
    "name": "ipython",
    "version": 3
   },
   "file_extension": ".py",
   "mimetype": "text/x-python",
   "name": "python",
   "nbconvert_exporter": "python",
   "pygments_lexer": "ipython3",
   "version": "3.6.5"
  }
 },
 "nbformat": 4,
 "nbformat_minor": 2
}
